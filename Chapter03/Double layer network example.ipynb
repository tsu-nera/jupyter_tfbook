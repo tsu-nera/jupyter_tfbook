{
 "cells": [
  {
   "cell_type": "markdown",
   "metadata": {},
   "source": [
    "**[DNE-01]** モジュールをインポートして、乱数のシードを設定します。"
   ]
  },
  {
   "cell_type": "code",
   "execution_count": 1,
   "metadata": {
    "collapsed": true
   },
   "outputs": [],
   "source": [
    "import tensorflow as tf\n",
    "import numpy as np\n",
    "import matplotlib.pyplot as plt\n",
    "from numpy.random import multivariate_normal, permutation\n",
    "import pandas as pd\n",
    "from pandas import DataFrame, Series\n",
    "\n",
    "np.random.seed(20160615)\n",
    "tf.set_random_seed(20160615)"
   ]
  },
  {
   "cell_type": "markdown",
   "metadata": {},
   "source": [
    "**[DNE-02]** トレーニングセットのデータを生成します。"
   ]
  },
  {
   "cell_type": "code",
   "execution_count": 2,
   "metadata": {},
   "outputs": [],
   "source": [
    "def generate_datablock(n, mu, var, t):\n",
    "    data = multivariate_normal(mu, np.eye(2)*var, n)\n",
    "    df = DataFrame(data, columns=['x1','x2'])\n",
    "    df['t'] = t\n",
    "    return df\n",
    "\n",
    "df0 = generate_datablock(30, [-7,-7], 18, 1)\n",
    "df1 = generate_datablock(30, [-7,7], 18, 0)\n",
    "df2 = generate_datablock(30, [7,-7], 18, 0)\n",
    "df3 = generate_datablock(30, [7,7], 18, 1)\n",
    "\n",
    "df = pd.concat([df0, df1, df2, df3], ignore_index=True)\n",
    "train_set = df.reindex(permutation(df.index)).reset_index(drop=True)"
   ]
  },
  {
   "cell_type": "markdown",
   "metadata": {},
   "source": [
    "**[DNE-03]** (x1, x2) と t を別々に集めたものをNumPyのarrayオブジェクトとして取り出しておきます。"
   ]
  },
  {
   "cell_type": "code",
   "execution_count": 3,
   "metadata": {
    "collapsed": true
   },
   "outputs": [],
   "source": [
    "train_x = train_set[['x1','x2']].as_matrix()\n",
    "train_t = train_set['t'].as_matrix().reshape([len(train_set), 1])"
   ]
  },
  {
   "cell_type": "markdown",
   "metadata": {},
   "source": [
    "**[DNE-04]** 二層ネットワークによる二項分類器のモデルを定義します。"
   ]
  },
  {
   "cell_type": "code",
   "execution_count": 4,
   "metadata": {},
   "outputs": [],
   "source": [
    "num_units1 = 2\n",
    "num_units2 = 2\n",
    "\n",
    "x = tf.placeholder(tf.float32, [None, 2])\n",
    "\n",
    "w1 = tf.Variable(tf.truncated_normal([2, num_units1]))\n",
    "b1 = tf.Variable(tf.zeros([num_units1]))\n",
    "hidden1 = tf.nn.tanh(tf.matmul(x, w1) + b1)\n",
    "\n",
    "w2 = tf.Variable(tf.truncated_normal([num_units1, num_units2]))\n",
    "b2 = tf.Variable(tf.zeros([num_units2]))\n",
    "hidden2 = tf.nn.tanh(tf.matmul(hidden1, w2) + b2)\n",
    "\n",
    "w0 = tf.Variable(tf.zeros([num_units2, 1]))\n",
    "b0 = tf.Variable(tf.zeros([1]))\n",
    "p = tf.nn.sigmoid(tf.matmul(hidden2, w0) + b0)"
   ]
  },
  {
   "cell_type": "markdown",
   "metadata": {},
   "source": [
    "**[DNE-05]** 誤差関数 loss、トレーニングアルゴリズム train_step、正解率 accuracy を定義します。"
   ]
  },
  {
   "cell_type": "code",
   "execution_count": 5,
   "metadata": {
    "collapsed": true
   },
   "outputs": [],
   "source": [
    "t = tf.placeholder(tf.float32, [None, 1])\n",
    "loss = -tf.reduce_sum(t*tf.log(p) + (1-t)*tf.log(1-p))\n",
    "train_step = tf.train.GradientDescentOptimizer(0.001).minimize(loss)\n",
    "correct_prediction = tf.equal(tf.sign(p-0.5), tf.sign(t-0.5))\n",
    "accuracy = tf.reduce_mean(tf.cast(correct_prediction, tf.float32))"
   ]
  },
  {
   "cell_type": "markdown",
   "metadata": {},
   "source": [
    "**[DNE-06]** セッションを用意して、Variableを初期化します。"
   ]
  },
  {
   "cell_type": "code",
   "execution_count": 7,
   "metadata": {},
   "outputs": [],
   "source": [
    "sess = tf.InteractiveSession()\n",
    "sess.run(tf.global_variables_initializer())"
   ]
  },
  {
   "cell_type": "markdown",
   "metadata": {},
   "source": [
    "**[DNE-07]** パラメーターの最適化を2000回繰り返します。"
   ]
  },
  {
   "cell_type": "code",
   "execution_count": 8,
   "metadata": {
    "scrolled": false
   },
   "outputs": [
    {
     "name": "stdout",
     "output_type": "stream",
     "text": [
      "Step: 100, Loss: 83.176933, Accuracy: 0.508333\n",
      "Step: 200, Loss: 83.176178, Accuracy: 0.508333\n",
      "Step: 300, Loss: 83.174591, Accuracy: 0.508333\n",
      "Step: 400, Loss: 83.171082, Accuracy: 0.500000\n",
      "Step: 500, Loss: 83.162636, Accuracy: 0.508333\n",
      "Step: 600, Loss: 83.140877, Accuracy: 0.516667\n",
      "Step: 700, Loss: 83.075996, Accuracy: 0.541667\n",
      "Step: 800, Loss: 82.822495, Accuracy: 0.541667\n",
      "Step: 900, Loss: 81.475693, Accuracy: 0.625000\n",
      "Step: 1000, Loss: 75.140419, Accuracy: 0.658333\n",
      "Step: 1100, Loss: 59.051060, Accuracy: 0.866667\n",
      "Step: 1200, Loss: 46.646378, Accuracy: 0.900000\n",
      "Step: 1300, Loss: 41.770844, Accuracy: 0.900000\n",
      "Step: 1400, Loss: 39.639244, Accuracy: 0.900000\n",
      "Step: 1500, Loss: 38.510742, Accuracy: 0.900000\n",
      "Step: 1600, Loss: 37.788445, Accuracy: 0.900000\n",
      "Step: 1700, Loss: 37.159111, Accuracy: 0.900000\n",
      "Step: 1800, Loss: 36.648502, Accuracy: 0.900000\n",
      "Step: 1900, Loss: 36.529396, Accuracy: 0.891667\n",
      "Step: 2000, Loss: 36.352604, Accuracy: 0.891667\n"
     ]
    }
   ],
   "source": [
    "i = 0\n",
    "for _ in range(2000):\n",
    "    i += 1\n",
    "    sess.run(train_step, feed_dict={x:train_x, t:train_t})\n",
    "    if i % 100 == 0:\n",
    "        loss_val, acc_val = sess.run(\n",
    "            [loss, accuracy], feed_dict={x:train_x, t:train_t})\n",
    "        print ('Step: %d, Loss: %f, Accuracy: %f'\n",
    "               % (i, loss_val, acc_val))"
   ]
  },
  {
   "cell_type": "markdown",
   "metadata": {},
   "source": [
    "**[DNE-08]** 得られた確率を色の濃淡で図示します。"
   ]
  },
  {
   "cell_type": "code",
   "execution_count": 10,
   "metadata": {},
   "outputs": [
    {
     "data": {
      "text/plain": [
       "<matplotlib.image.AxesImage at 0x7f972b7daef0>"
      ]
     },
     "execution_count": 10,
     "metadata": {},
     "output_type": "execute_result"
    },
    {
     "data": {
      "image/png": "[encoded data removed]",
      "text/plain": [
       "<matplotlib.figure.Figure at 0x7f97305ccc88>"
      ]
     },
     "metadata": {},
     "output_type": "display_data"
    }
   ],
   "source": [
    "%matplotlib inline\n",
    "train_set1 = train_set[train_set['t']==1]\n",
    "train_set2 = train_set[train_set['t']==0]\n",
    "\n",
    "fig = plt.figure(figsize=(6,6))\n",
    "subplot = fig.add_subplot(1,1,1)\n",
    "subplot.set_ylim([-15,15])\n",
    "subplot.set_xlim([-15,15])\n",
    "subplot.scatter(train_set1.x1, train_set1.x2, marker='x')\n",
    "subplot.scatter(train_set2.x1, train_set2.x2, marker='o')\n",
    "\n",
    "locations = []\n",
    "for x2 in np.linspace(-15,15,100):\n",
    "    for x1 in np.linspace(-15,15,100):\n",
    "        locations.append((x1,x2))\n",
    "p_vals = sess.run(p, feed_dict={x:locations})\n",
    "p_vals = p_vals.reshape((100,100))\n",
    "subplot.imshow(p_vals, origin='lower', extent=(-15,15,-15,15),\n",
    "               cmap=plt.cm.gray_r, alpha=0.5)"
   ]
  },
  {
   "cell_type": "code",
   "execution_count": null,
   "metadata": {
    "collapsed": true
   },
   "outputs": [],
   "source": []
  }
 ],
 "metadata": {
  "kernelspec": {
   "display_name": "Python 3",
   "language": "python",
   "name": "python3"
  },
  "language_info": {
   "codemirror_mode": {
    "name": "ipython",
    "version": 3
   },
   "file_extension": ".py",
   "mimetype": "text/x-python",
   "name": "python",
   "nbconvert_exporter": "python",
   "pygments_lexer": "ipython3",
   "version": "3.6.1"
  },
  "toc": {
   "colors": {
    "hover_highlight": "#DAA520",
    "running_highlight": "#FF0000",
    "selected_highlight": "#FFD700"
   },
   "moveMenuLeft": true,
   "nav_menu": {
    "height": "12px",
    "width": "252px"
   },
   "navigate_menu": true,
   "number_sections": false,
   "sideBar": true,
   "threshold": 4,
   "toc_cell": false,
   "toc_section_display": "block",
   "toc_window_display": false,
   "widenNotebook": false
  }
 },
 "nbformat": 4,
 "nbformat_minor": 1
}
